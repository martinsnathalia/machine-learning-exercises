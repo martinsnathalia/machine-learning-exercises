{
 "cells": [
  {
   "attachments": {},
   "cell_type": "markdown",
   "id": "79e1beb3",
   "metadata": {},
   "source": [
    "# Ensembles"
   ]
  },
  {
   "attachments": {},
   "cell_type": "markdown",
   "id": "c37766e5",
   "metadata": {},
   "source": [
    "### Dataset: enron_spam_data_prep.csv. Link: https://github.com/MWiechmann/enron_spam_data."
   ]
  },
  {
   "attachments": {},
   "cell_type": "markdown",
   "id": "e3e72d2b",
   "metadata": {},
   "source": [
    "### a) Train/test: 70%-30%. Use the approach below:\n",
    "**- Random Forest: Use grid-search to adjust the number of base classifiers (values 10, 20, : : :, 180, 190, 200) and the maximum depth (max depth, values 2, 4, 6, 8 or maximum (None in sklearn)).**\n",
    "</br>\n",
    "**- cv = 10 folds**"
   ]
  },
  {
   "cell_type": "code",
   "execution_count": 1,
   "id": "de3fbf93",
   "metadata": {},
   "outputs": [],
   "source": [
    "import numpy as np\n",
    "from sklearn.model_selection import train_test_split\n",
    "from sklearn.preprocessing import StandardScaler\n",
    "from sklearn.metrics import classification_report\n",
    "from sklearn.metrics import accuracy_score\n",
    "from matplotlib import pyplot as plt\n",
    "from sklearn.model_selection import GridSearchCV\n",
    "from sklearn.ensemble import RandomForestClassifier\n",
    "from sklearn.metrics import RocCurveDisplay\n",
    "from sklearn.metrics import (precision_recall_curve, PrecisionRecallDisplay)\n",
    "import warnings\n",
    "warnings.filterwarnings(\"ignore\")"
   ]
  },
  {
   "cell_type": "code",
   "execution_count": 2,
   "id": "4797e519",
   "metadata": {},
   "outputs": [
    {
     "data": {
      "text/plain": [
       "(33716, 1001)"
      ]
     },
     "execution_count": 2,
     "metadata": {},
     "output_type": "execute_result"
    }
   ],
   "source": [
    "data = np.genfromtxt(\"../data/enron_spam_data_prep.csv\", delimiter = ',')\n",
    "data.shape"
   ]
  },
  {
   "cell_type": "code",
   "execution_count": 3,
   "id": "5ceb664e",
   "metadata": {},
   "outputs": [],
   "source": [
    "x = data[:,:-1]\n",
    "y = data[:,-1]"
   ]
  },
  {
   "cell_type": "code",
   "execution_count": 4,
   "id": "7f1a64e1",
   "metadata": {},
   "outputs": [
    {
     "data": {
      "text/plain": [
       "((33716, 1000), (33716,))"
      ]
     },
     "execution_count": 4,
     "metadata": {},
     "output_type": "execute_result"
    }
   ],
   "source": [
    "x.shape, y.shape"
   ]
  },
  {
   "cell_type": "code",
   "execution_count": 5,
   "id": "87db2ec4",
   "metadata": {},
   "outputs": [],
   "source": [
    "x_train, x_test, y_train, y_test = train_test_split(x, y, test_size=0.3, random_state=42)"
   ]
  },
  {
   "cell_type": "code",
   "execution_count": 6,
   "id": "8b068313",
   "metadata": {},
   "outputs": [],
   "source": [
    "scaler = StandardScaler().fit(x_train)\n",
    "X_train_scaled = scaler.transform(x_train)\n",
    "X_test_scaled = scaler.transform(x_test)"
   ]
  },
  {
   "cell_type": "code",
   "execution_count": 7,
   "id": "32281694",
   "metadata": {},
   "outputs": [],
   "source": [
    "est = [10*x for x in range(1,21)]"
   ]
  },
  {
   "cell_type": "code",
   "execution_count": 8,
   "id": "537990a9",
   "metadata": {},
   "outputs": [],
   "source": [
    "param_grid = { \n",
    "    'n_estimators': est,\n",
    "    'max_depth' : [2,4,6,8],\n",
    "}"
   ]
  },
  {
   "cell_type": "code",
   "execution_count": 9,
   "id": "80a0c848",
   "metadata": {},
   "outputs": [],
   "source": [
    "rfc=RandomForestClassifier(random_state=42)"
   ]
  },
  {
   "cell_type": "code",
   "execution_count": 10,
   "id": "53198912",
   "metadata": {},
   "outputs": [],
   "source": [
    "CV_rfc = GridSearchCV(estimator=rfc, param_grid=param_grid, cv= 10).fit(X_train_scaled, y_train)"
   ]
  },
  {
   "cell_type": "code",
   "execution_count": 11,
   "id": "21b2ddfe",
   "metadata": {},
   "outputs": [
    {
     "data": {
      "text/plain": [
       "{'mean_fit_time': array([ 0.37955196,  0.56311142,  0.77510097,  0.99610362,  1.21351883,\n",
       "         1.42444944,  1.65370135,  1.87309935,  2.10011725,  2.3106081 ,\n",
       "         2.541695  ,  2.75510809,  2.9779254 ,  3.19855108,  3.40929835,\n",
       "         3.6314039 ,  3.84043336,  4.0651408 ,  4.29718087,  4.52073946,\n",
       "         0.54393878,  0.94046664,  1.34442415,  1.75015125,  2.16890402,\n",
       "         2.55502403,  2.97451873,  3.37502687,  3.79994743,  4.20918703,\n",
       "         4.6166419 ,  5.01495786,  5.43794677,  5.84241283,  6.22679558,\n",
       "         6.67028534,  7.06224775,  7.49734898,  7.90347517,  8.32608869,\n",
       "         0.70482492,  1.2810972 ,  1.87509615,  2.45422285,  3.02633753,\n",
       "         3.59858255,  4.19381971,  4.75977283,  5.33817289,  5.93204443,\n",
       "         6.52114036,  7.0945915 ,  7.68321927,  8.2600435 ,  8.86863031,\n",
       "         9.43949454, 10.00039527, 10.55480533, 11.1715029 , 11.76091285,\n",
       "         0.87850361,  1.60714443,  2.34264414,  3.08456881,  3.81896155,\n",
       "         4.57650208,  5.30697384,  6.06159451,  6.79458506,  7.53911426,\n",
       "         8.25110703,  8.84476011,  8.9047755 ,  9.60222635, 10.26940417,\n",
       "        11.60669906, 12.70826602, 13.48912868, 14.21963525, 14.92624063]),\n",
       " 'std_fit_time': array([0.04916041, 0.01039993, 0.0110509 , 0.0100854 , 0.01212409,\n",
       "        0.01130775, 0.0109891 , 0.0102808 , 0.01587417, 0.01121254,\n",
       "        0.01779992, 0.00671472, 0.01458738, 0.02599549, 0.01368557,\n",
       "        0.018703  , 0.0174692 , 0.02129498, 0.0115164 , 0.01878251,\n",
       "        0.04271952, 0.02825382, 0.00771165, 0.00931565, 0.01293192,\n",
       "        0.03371254, 0.01420887, 0.01294221, 0.0223733 , 0.01573407,\n",
       "        0.01639447, 0.01466844, 0.02074647, 0.02677998, 0.02274025,\n",
       "        0.04147323, 0.03050626, 0.04108353, 0.02935817, 0.07029846,\n",
       "        0.01133312, 0.01328067, 0.01310308, 0.01006766, 0.01153648,\n",
       "        0.04991321, 0.03724985, 0.01448783, 0.0219093 , 0.03493264,\n",
       "        0.0433756 , 0.02391507, 0.02111079, 0.03933488, 0.03284623,\n",
       "        0.05735742, 0.05392904, 0.06380536, 0.04471365, 0.07317148,\n",
       "        0.03421966, 0.00719486, 0.00879195, 0.01244428, 0.02091313,\n",
       "        0.0203026 , 0.02717145, 0.0572471 , 0.03768595, 0.05482095,\n",
       "        0.03649777, 0.30693958, 0.07190112, 0.05653389, 0.04074015,\n",
       "        0.53048756, 0.04654061, 0.08700535, 0.06487362, 0.04709558]),\n",
       " 'mean_score_time': array([0.01020961, 0.01170378, 0.01369953, 0.01630113, 0.01930108,\n",
       "        0.02030058, 0.02209253, 0.02480214, 0.02709754, 0.03100116,\n",
       "        0.03100135, 0.03300946, 0.03539612, 0.03952181, 0.03980873,\n",
       "        0.04210098, 0.04389873, 0.04560289, 0.04940372, 0.04999783,\n",
       "        0.01049957, 0.01309619, 0.01520314, 0.01769252, 0.0201946 ,\n",
       "        0.02269943, 0.02540004, 0.02850096, 0.03050256, 0.03329163,\n",
       "        0.03590322, 0.03860233, 0.04089599, 0.0432915 , 0.04579883,\n",
       "        0.04860892, 0.05079062, 0.05300679, 0.05688553, 0.05888674,\n",
       "        0.01069944, 0.01330552, 0.01610079, 0.01939366, 0.02230723,\n",
       "        0.02649505, 0.02899766, 0.03119612, 0.03359756, 0.03650506,\n",
       "        0.03960645, 0.04269423, 0.04548922, 0.04859433, 0.05409307,\n",
       "        0.05639942, 0.05759652, 0.05970275, 0.06299031, 0.06729174,\n",
       "        0.01089895, 0.01489699, 0.01749706, 0.02139874, 0.02519987,\n",
       "        0.02760024, 0.03139467, 0.03479917, 0.03730321, 0.04010201,\n",
       "        0.04329491, 0.04659784, 0.04625564, 0.04916005, 0.05174882,\n",
       "        0.06032944, 0.06309295, 0.06560221, 0.07270751, 0.07299716]),\n",
       " 'std_score_time': array([0.0011594 , 0.00044706, 0.00077664, 0.00064109, 0.0036854 ,\n",
       "        0.00089696, 0.00053845, 0.00060132, 0.00144298, 0.00586252,\n",
       "        0.00076988, 0.00173836, 0.00080082, 0.00312487, 0.00117418,\n",
       "        0.0009341 , 0.00094206, 0.00049188, 0.00494156, 0.00076477,\n",
       "        0.00081032, 0.00156959, 0.00074406, 0.00063801, 0.00074488,\n",
       "        0.0004664 , 0.00091638, 0.00179448, 0.0006709 , 0.00078444,\n",
       "        0.00121974, 0.00127997, 0.00181011, 0.00148373, 0.00074764,\n",
       "        0.00196943, 0.00107645, 0.00134477, 0.00225102, 0.00137816,\n",
       "        0.00064045, 0.00063449, 0.00053781, 0.00048925, 0.00079414,\n",
       "        0.00313827, 0.00227904, 0.00147103, 0.00091364, 0.00103436,\n",
       "        0.00156787, 0.00100462, 0.00175167, 0.00173311, 0.00979193,\n",
       "        0.004239  , 0.00178811, 0.00127589, 0.00154324, 0.00349811,\n",
       "        0.00053184, 0.00112042, 0.00067774, 0.00121138, 0.00194608,\n",
       "        0.00110449, 0.00205015, 0.00281663, 0.00126796, 0.00103944,\n",
       "        0.00161456, 0.00148489, 0.00206789, 0.00054501, 0.00043506,\n",
       "        0.00410831, 0.0014471 , 0.00185249, 0.00545942, 0.00183561]),\n",
       " 'param_max_depth': masked_array(data=[2, 2, 2, 2, 2, 2, 2, 2, 2, 2, 2, 2, 2, 2, 2, 2, 2, 2,\n",
       "                    2, 2, 4, 4, 4, 4, 4, 4, 4, 4, 4, 4, 4, 4, 4, 4, 4, 4,\n",
       "                    4, 4, 4, 4, 6, 6, 6, 6, 6, 6, 6, 6, 6, 6, 6, 6, 6, 6,\n",
       "                    6, 6, 6, 6, 6, 6, 8, 8, 8, 8, 8, 8, 8, 8, 8, 8, 8, 8,\n",
       "                    8, 8, 8, 8, 8, 8, 8, 8],\n",
       "              mask=[False, False, False, False, False, False, False, False,\n",
       "                    False, False, False, False, False, False, False, False,\n",
       "                    False, False, False, False, False, False, False, False,\n",
       "                    False, False, False, False, False, False, False, False,\n",
       "                    False, False, False, False, False, False, False, False,\n",
       "                    False, False, False, False, False, False, False, False,\n",
       "                    False, False, False, False, False, False, False, False,\n",
       "                    False, False, False, False, False, False, False, False,\n",
       "                    False, False, False, False, False, False, False, False,\n",
       "                    False, False, False, False, False, False, False, False],\n",
       "        fill_value='?',\n",
       "             dtype=object),\n",
       " 'param_n_estimators': masked_array(data=[10, 20, 30, 40, 50, 60, 70, 80, 90, 100, 110, 120, 130,\n",
       "                    140, 150, 160, 170, 180, 190, 200, 10, 20, 30, 40, 50,\n",
       "                    60, 70, 80, 90, 100, 110, 120, 130, 140, 150, 160, 170,\n",
       "                    180, 190, 200, 10, 20, 30, 40, 50, 60, 70, 80, 90, 100,\n",
       "                    110, 120, 130, 140, 150, 160, 170, 180, 190, 200, 10,\n",
       "                    20, 30, 40, 50, 60, 70, 80, 90, 100, 110, 120, 130,\n",
       "                    140, 150, 160, 170, 180, 190, 200],\n",
       "              mask=[False, False, False, False, False, False, False, False,\n",
       "                    False, False, False, False, False, False, False, False,\n",
       "                    False, False, False, False, False, False, False, False,\n",
       "                    False, False, False, False, False, False, False, False,\n",
       "                    False, False, False, False, False, False, False, False,\n",
       "                    False, False, False, False, False, False, False, False,\n",
       "                    False, False, False, False, False, False, False, False,\n",
       "                    False, False, False, False, False, False, False, False,\n",
       "                    False, False, False, False, False, False, False, False,\n",
       "                    False, False, False, False, False, False, False, False],\n",
       "        fill_value='?',\n",
       "             dtype=object),\n",
       " 'params': [{'max_depth': 2, 'n_estimators': 10},\n",
       "  {'max_depth': 2, 'n_estimators': 20},\n",
       "  {'max_depth': 2, 'n_estimators': 30},\n",
       "  {'max_depth': 2, 'n_estimators': 40},\n",
       "  {'max_depth': 2, 'n_estimators': 50},\n",
       "  {'max_depth': 2, 'n_estimators': 60},\n",
       "  {'max_depth': 2, 'n_estimators': 70},\n",
       "  {'max_depth': 2, 'n_estimators': 80},\n",
       "  {'max_depth': 2, 'n_estimators': 90},\n",
       "  {'max_depth': 2, 'n_estimators': 100},\n",
       "  {'max_depth': 2, 'n_estimators': 110},\n",
       "  {'max_depth': 2, 'n_estimators': 120},\n",
       "  {'max_depth': 2, 'n_estimators': 130},\n",
       "  {'max_depth': 2, 'n_estimators': 140},\n",
       "  {'max_depth': 2, 'n_estimators': 150},\n",
       "  {'max_depth': 2, 'n_estimators': 160},\n",
       "  {'max_depth': 2, 'n_estimators': 170},\n",
       "  {'max_depth': 2, 'n_estimators': 180},\n",
       "  {'max_depth': 2, 'n_estimators': 190},\n",
       "  {'max_depth': 2, 'n_estimators': 200},\n",
       "  {'max_depth': 4, 'n_estimators': 10},\n",
       "  {'max_depth': 4, 'n_estimators': 20},\n",
       "  {'max_depth': 4, 'n_estimators': 30},\n",
       "  {'max_depth': 4, 'n_estimators': 40},\n",
       "  {'max_depth': 4, 'n_estimators': 50},\n",
       "  {'max_depth': 4, 'n_estimators': 60},\n",
       "  {'max_depth': 4, 'n_estimators': 70},\n",
       "  {'max_depth': 4, 'n_estimators': 80},\n",
       "  {'max_depth': 4, 'n_estimators': 90},\n",
       "  {'max_depth': 4, 'n_estimators': 100},\n",
       "  {'max_depth': 4, 'n_estimators': 110},\n",
       "  {'max_depth': 4, 'n_estimators': 120},\n",
       "  {'max_depth': 4, 'n_estimators': 130},\n",
       "  {'max_depth': 4, 'n_estimators': 140},\n",
       "  {'max_depth': 4, 'n_estimators': 150},\n",
       "  {'max_depth': 4, 'n_estimators': 160},\n",
       "  {'max_depth': 4, 'n_estimators': 170},\n",
       "  {'max_depth': 4, 'n_estimators': 180},\n",
       "  {'max_depth': 4, 'n_estimators': 190},\n",
       "  {'max_depth': 4, 'n_estimators': 200},\n",
       "  {'max_depth': 6, 'n_estimators': 10},\n",
       "  {'max_depth': 6, 'n_estimators': 20},\n",
       "  {'max_depth': 6, 'n_estimators': 30},\n",
       "  {'max_depth': 6, 'n_estimators': 40},\n",
       "  {'max_depth': 6, 'n_estimators': 50},\n",
       "  {'max_depth': 6, 'n_estimators': 60},\n",
       "  {'max_depth': 6, 'n_estimators': 70},\n",
       "  {'max_depth': 6, 'n_estimators': 80},\n",
       "  {'max_depth': 6, 'n_estimators': 90},\n",
       "  {'max_depth': 6, 'n_estimators': 100},\n",
       "  {'max_depth': 6, 'n_estimators': 110},\n",
       "  {'max_depth': 6, 'n_estimators': 120},\n",
       "  {'max_depth': 6, 'n_estimators': 130},\n",
       "  {'max_depth': 6, 'n_estimators': 140},\n",
       "  {'max_depth': 6, 'n_estimators': 150},\n",
       "  {'max_depth': 6, 'n_estimators': 160},\n",
       "  {'max_depth': 6, 'n_estimators': 170},\n",
       "  {'max_depth': 6, 'n_estimators': 180},\n",
       "  {'max_depth': 6, 'n_estimators': 190},\n",
       "  {'max_depth': 6, 'n_estimators': 200},\n",
       "  {'max_depth': 8, 'n_estimators': 10},\n",
       "  {'max_depth': 8, 'n_estimators': 20},\n",
       "  {'max_depth': 8, 'n_estimators': 30},\n",
       "  {'max_depth': 8, 'n_estimators': 40},\n",
       "  {'max_depth': 8, 'n_estimators': 50},\n",
       "  {'max_depth': 8, 'n_estimators': 60},\n",
       "  {'max_depth': 8, 'n_estimators': 70},\n",
       "  {'max_depth': 8, 'n_estimators': 80},\n",
       "  {'max_depth': 8, 'n_estimators': 90},\n",
       "  {'max_depth': 8, 'n_estimators': 100},\n",
       "  {'max_depth': 8, 'n_estimators': 110},\n",
       "  {'max_depth': 8, 'n_estimators': 120},\n",
       "  {'max_depth': 8, 'n_estimators': 130},\n",
       "  {'max_depth': 8, 'n_estimators': 140},\n",
       "  {'max_depth': 8, 'n_estimators': 150},\n",
       "  {'max_depth': 8, 'n_estimators': 160},\n",
       "  {'max_depth': 8, 'n_estimators': 170},\n",
       "  {'max_depth': 8, 'n_estimators': 180},\n",
       "  {'max_depth': 8, 'n_estimators': 190},\n",
       "  {'max_depth': 8, 'n_estimators': 200}],\n",
       " 'split0_test_score': array([0.81194409, 0.82973316, 0.83820415, 0.83820415, 0.8360864 ,\n",
       "        0.83820415, 0.83735705, 0.83015671, 0.83058026, 0.82253283,\n",
       "        0.82126218, 0.81956798, 0.81872088, 0.82126218, 0.81956798,\n",
       "        0.81914443, 0.82253283, 0.82295637, 0.82253283, 0.82168573,\n",
       "        0.86361711, 0.87971199, 0.87801779, 0.87251165, 0.86827615,\n",
       "        0.8703939 , 0.86700551, 0.86531131, 0.86658196, 0.86615841,\n",
       "        0.86742906, 0.86827615, 0.87166455, 0.87251165, 0.8695468 ,\n",
       "        0.8686997 , 0.86912325, 0.87166455, 0.8720881 , 0.87335875,\n",
       "        0.88267683, 0.89157137, 0.89538331, 0.89580686, 0.89538331,\n",
       "        0.89707751, 0.89792461, 0.89877171, 0.89665396, 0.89623041,\n",
       "        0.89580686, 0.89580686, 0.89665396, 0.89707751, 0.89623041,\n",
       "        0.89495976, 0.89580686, 0.89453621, 0.89411266, 0.89538331,\n",
       "        0.89961881, 0.90427785, 0.91274884, 0.91656078, 0.91486658,\n",
       "        0.91867853, 0.91825498, 0.91952562, 0.91910208, 0.91867853,\n",
       "        0.92079627, 0.91952562, 0.92037272, 0.91910208, 0.91867853,\n",
       "        0.91910208, 0.92037272, 0.92079627, 0.91952562, 0.91867853]),\n",
       " 'split1_test_score': array([0.81355932, 0.83347458, 0.83983051, 0.83347458, 0.83220339,\n",
       "        0.825     , 0.82627119, 0.82711864, 0.82584746, 0.82754237,\n",
       "        0.82076271, 0.82415254, 0.82288136, 0.82457627, 0.82711864,\n",
       "        0.82288136, 0.82881356, 0.82245763, 0.82330508, 0.8220339 ,\n",
       "        0.85677966, 0.87372881, 0.8779661 , 0.86779661, 0.87033898,\n",
       "        0.86949153, 0.87118644, 0.87161017, 0.86822034, 0.86822034,\n",
       "        0.8720339 , 0.86991525, 0.86949153, 0.8720339 , 0.8720339 ,\n",
       "        0.8720339 , 0.87245763, 0.87372881, 0.8720339 , 0.87245763,\n",
       "        0.87754237, 0.89279661, 0.89576271, 0.88559322, 0.89364407,\n",
       "        0.89279661, 0.89533898, 0.89576271, 0.8970339 , 0.89533898,\n",
       "        0.89533898, 0.8940678 , 0.89491525, 0.89533898, 0.8940678 ,\n",
       "        0.89533898, 0.89152542, 0.8940678 , 0.8940678 , 0.89449153,\n",
       "        0.89915254, 0.90847458, 0.91016949, 0.90550847, 0.91440678,\n",
       "        0.91398305, 0.91228814, 0.91313559, 0.91355932, 0.91144068,\n",
       "        0.91228814, 0.91059322, 0.91186441, 0.91440678, 0.91016949,\n",
       "        0.90889831, 0.90847458, 0.90932203, 0.91016949, 0.91059322]),\n",
       " 'split2_test_score': array([0.80211864, 0.81949153, 0.84491525, 0.84279661, 0.84364407,\n",
       "        0.83347458, 0.83347458, 0.82838983, 0.82838983, 0.825     ,\n",
       "        0.82118644, 0.81779661, 0.81440678, 0.81694915, 0.8220339 ,\n",
       "        0.8220339 , 0.81822034, 0.81991525, 0.81864407, 0.8190678 ,\n",
       "        0.86228814, 0.87161017, 0.87372881, 0.86991525, 0.86864407,\n",
       "        0.8690678 , 0.86694915, 0.86991525, 0.86694915, 0.86440678,\n",
       "        0.86567797, 0.86440678, 0.86567797, 0.86483051, 0.86567797,\n",
       "        0.86652542, 0.86567797, 0.86567797, 0.86779661, 0.86610169,\n",
       "        0.87923729, 0.89194915, 0.89449153, 0.89110169, 0.89618644,\n",
       "        0.8940678 , 0.89322034, 0.89364407, 0.89491525, 0.89279661,\n",
       "        0.89364407, 0.89491525, 0.89533898, 0.89449153, 0.89237288,\n",
       "        0.89237288, 0.89533898, 0.89449153, 0.89576271, 0.89152542,\n",
       "        0.90762712, 0.90635593, 0.91059322, 0.91440678, 0.91440678,\n",
       "        0.91525424, 0.91355932, 0.91313559, 0.91059322, 0.91440678,\n",
       "        0.91355932, 0.91440678, 0.91483051, 0.91610169, 0.91483051,\n",
       "        0.91525424, 0.91483051, 0.91652542, 0.91440678, 0.91822034]),\n",
       " 'split3_test_score': array([0.79364407, 0.82076271, 0.82627119, 0.81228814, 0.81779661,\n",
       "        0.81779661, 0.80889831, 0.80677966, 0.80084746, 0.80338983,\n",
       "        0.79957627, 0.79957627, 0.79788136, 0.79915254, 0.80127119,\n",
       "        0.8       , 0.80338983, 0.80169492, 0.80084746, 0.79957627,\n",
       "        0.85550847, 0.87330508, 0.86652542, 0.85974576, 0.85508475,\n",
       "        0.85932203, 0.85762712, 0.85381356, 0.85466102, 0.85508475,\n",
       "        0.85550847, 0.85466102, 0.85635593, 0.8559322 , 0.85720339,\n",
       "        0.85762712, 0.85635593, 0.85847458, 0.85974576, 0.85932203,\n",
       "        0.8690678 , 0.87711864, 0.88135593, 0.88050847, 0.88008475,\n",
       "        0.8809322 , 0.8809322 , 0.8779661 , 0.88220339, 0.8779661 ,\n",
       "        0.87881356, 0.88050847, 0.87966102, 0.88135593, 0.87923729,\n",
       "        0.87881356, 0.88008475, 0.88220339, 0.88135593, 0.88135593,\n",
       "        0.88050847, 0.8940678 , 0.89745763, 0.89745763, 0.89957627,\n",
       "        0.89788136, 0.9       , 0.90127119, 0.89830508, 0.89915254,\n",
       "        0.89957627, 0.89872881, 0.89830508, 0.89915254, 0.90127119,\n",
       "        0.9029661 , 0.89957627, 0.90254237, 0.89830508, 0.90127119]),\n",
       " 'split4_test_score': array([0.78347458, 0.83474576, 0.83305085, 0.82372881, 0.825     ,\n",
       "        0.82457627, 0.82415254, 0.8220339 , 0.81567797, 0.82118644,\n",
       "        0.81694915, 0.81440678, 0.81398305, 0.81525424, 0.81483051,\n",
       "        0.81355932, 0.81737288, 0.81737288, 0.81440678, 0.81440678,\n",
       "        0.86864407, 0.87627119, 0.8779661 , 0.87118644, 0.87161017,\n",
       "        0.87627119, 0.87245763, 0.87288136, 0.86864407, 0.87118644,\n",
       "        0.87118644, 0.87161017, 0.87542373, 0.87372881, 0.87415254,\n",
       "        0.87330508, 0.87415254, 0.87245763, 0.875     , 0.87457627,\n",
       "        0.88474576, 0.89491525, 0.89745763, 0.89915254, 0.89788136,\n",
       "        0.9       , 0.9       , 0.90169492, 0.89915254, 0.89957627,\n",
       "        0.90042373, 0.89872881, 0.89745763, 0.89745763, 0.89576271,\n",
       "        0.89745763, 0.8970339 , 0.89830508, 0.89830508, 0.89788136,\n",
       "        0.90466102, 0.91101695, 0.91525424, 0.91610169, 0.91652542,\n",
       "        0.9190678 , 0.9190678 , 0.9190678 , 0.91822034, 0.91864407,\n",
       "        0.91991525, 0.91949153, 0.91864407, 0.91949153, 0.91864407,\n",
       "        0.91864407, 0.91779661, 0.92033898, 0.91822034, 0.91949153]),\n",
       " 'split5_test_score': array([0.78305085, 0.80550847, 0.83050847, 0.82118644, 0.82669492,\n",
       "        0.82669492, 0.82415254, 0.82288136, 0.82118644, 0.81864407,\n",
       "        0.81652542, 0.81567797, 0.81652542, 0.81483051, 0.81440678,\n",
       "        0.81144068, 0.81949153, 0.81737288, 0.81864407, 0.81737288,\n",
       "        0.86016949, 0.87415254, 0.8720339 , 0.86737288, 0.87076271,\n",
       "        0.87415254, 0.87245763, 0.8720339 , 0.86949153, 0.86355932,\n",
       "        0.86652542, 0.86652542, 0.8690678 , 0.86694915, 0.86949153,\n",
       "        0.86822034, 0.875     , 0.87457627, 0.87457627, 0.87118644,\n",
       "        0.87838983, 0.88728814, 0.89152542, 0.89152542, 0.89025424,\n",
       "        0.89152542, 0.89152542, 0.89576271, 0.89194915, 0.89237288,\n",
       "        0.89110169, 0.89237288, 0.8940678 , 0.89449153, 0.89364407,\n",
       "        0.89533898, 0.89364407, 0.89237288, 0.89322034, 0.89152542,\n",
       "        0.89745763, 0.90635593, 0.91059322, 0.91186441, 0.91144068,\n",
       "        0.90847458, 0.91186441, 0.91313559, 0.91355932, 0.91059322,\n",
       "        0.91016949, 0.91228814, 0.91228814, 0.91271186, 0.91186441,\n",
       "        0.91271186, 0.91398305, 0.91355932, 0.91483051, 0.91483051]),\n",
       " 'split6_test_score': array([0.78728814, 0.80889831, 0.8309322 , 0.81864407, 0.82415254,\n",
       "        0.81271186, 0.81991525, 0.81610169, 0.81101695, 0.81144068,\n",
       "        0.80720339, 0.80423729, 0.80381356, 0.8029661 , 0.80466102,\n",
       "        0.80042373, 0.80466102, 0.80466102, 0.80338983, 0.80211864,\n",
       "        0.86398305, 0.87372881, 0.8720339 , 0.8690678 , 0.86525424,\n",
       "        0.86313559, 0.86610169, 0.86398305, 0.86186441, 0.86271186,\n",
       "        0.86271186, 0.86016949, 0.86313559, 0.86355932, 0.86271186,\n",
       "        0.86525424, 0.86779661, 0.86483051, 0.86610169, 0.86398305,\n",
       "        0.87330508, 0.89194915, 0.88898305, 0.88686441, 0.88983051,\n",
       "        0.88898305, 0.89025424, 0.89364407, 0.89110169, 0.89067797,\n",
       "        0.89152542, 0.88983051, 0.89067797, 0.89237288, 0.89110169,\n",
       "        0.89322034, 0.89364407, 0.89364407, 0.89279661, 0.89194915,\n",
       "        0.90211864, 0.91059322, 0.91144068, 0.91059322, 0.91228814,\n",
       "        0.91228814, 0.91525424, 0.91567797, 0.91355932, 0.91355932,\n",
       "        0.91313559, 0.91186441, 0.91144068, 0.91016949, 0.90889831,\n",
       "        0.91101695, 0.90974576, 0.91144068, 0.91016949, 0.91101695]),\n",
       " 'split7_test_score': array([0.79533898, 0.82711864, 0.84364407, 0.83135593, 0.84152542,\n",
       "        0.83728814, 0.83389831, 0.82966102, 0.83050847, 0.82966102,\n",
       "        0.82627119, 0.82542373, 0.825     , 0.82415254, 0.82415254,\n",
       "        0.82161017, 0.82542373, 0.82330508, 0.8220339 , 0.8220339 ,\n",
       "        0.87669492, 0.87966102, 0.87627119, 0.87584746, 0.87627119,\n",
       "        0.87838983, 0.8779661 , 0.87288136, 0.87245763, 0.87415254,\n",
       "        0.87457627, 0.8720339 , 0.87542373, 0.87457627, 0.87584746,\n",
       "        0.87415254, 0.87754237, 0.87457627, 0.87711864, 0.87711864,\n",
       "        0.88516949, 0.8940678 , 0.89788136, 0.89915254, 0.90127119,\n",
       "        0.90254237, 0.90042373, 0.90211864, 0.90042373, 0.8970339 ,\n",
       "        0.89957627, 0.90084746, 0.90211864, 0.90423729, 0.90169492,\n",
       "        0.90127119, 0.89957627, 0.90042373, 0.90042373, 0.90211864,\n",
       "        0.90847458, 0.91228814, 0.91483051, 0.91567797, 0.91694915,\n",
       "        0.91779661, 0.91779661, 0.9190678 , 0.91822034, 0.91313559,\n",
       "        0.91737288, 0.91822034, 0.91652542, 0.91525424, 0.91652542,\n",
       "        0.91737288, 0.91864407, 0.91779661, 0.91694915, 0.91822034]),\n",
       " 'split8_test_score': array([0.81313559, 0.83728814, 0.84322034, 0.83516949, 0.83474576,\n",
       "        0.83135593, 0.83135593, 0.83050847, 0.82415254, 0.82288136,\n",
       "        0.8220339 , 0.82245763, 0.82542373, 0.82118644, 0.82542373,\n",
       "        0.82118644, 0.82754237, 0.82627119, 0.82584746, 0.82542373,\n",
       "        0.87118644, 0.88262712, 0.87966102, 0.87627119, 0.87330508,\n",
       "        0.87415254, 0.87076271, 0.87118644, 0.8690678 , 0.86652542,\n",
       "        0.86822034, 0.86864407, 0.86991525, 0.8690678 , 0.87415254,\n",
       "        0.87118644, 0.87542373, 0.87627119, 0.87542373, 0.87542373,\n",
       "        0.87627119, 0.89067797, 0.89491525, 0.89152542, 0.88983051,\n",
       "        0.89067797, 0.88983051, 0.88983051, 0.89067797, 0.88728814,\n",
       "        0.88855932, 0.89025424, 0.89194915, 0.89194915, 0.89194915,\n",
       "        0.88855932, 0.89237288, 0.89322034, 0.89152542, 0.89194915,\n",
       "        0.89788136, 0.90677966, 0.91016949, 0.9059322 , 0.90847458,\n",
       "        0.90805085, 0.90423729, 0.90762712, 0.90635593, 0.90805085,\n",
       "        0.90720339, 0.90677966, 0.90932203, 0.90847458, 0.90889831,\n",
       "        0.91016949, 0.90974576, 0.90889831, 0.91101695, 0.90847458]),\n",
       " 'split9_test_score': array([0.79322034, 0.82033898, 0.83389831, 0.82881356, 0.83220339,\n",
       "        0.82584746, 0.83177966, 0.825     , 0.82330508, 0.82118644,\n",
       "        0.81949153, 0.81737288, 0.81737288, 0.81355932, 0.81694915,\n",
       "        0.81483051, 0.82245763, 0.82245763, 0.82076271, 0.81991525,\n",
       "        0.87245763, 0.87627119, 0.87542373, 0.86949153, 0.87033898,\n",
       "        0.87330508, 0.87711864, 0.875     , 0.87118644, 0.86822034,\n",
       "        0.86949153, 0.87033898, 0.87033898, 0.87076271, 0.86949153,\n",
       "        0.8690678 , 0.87330508, 0.87542373, 0.87627119, 0.87627119,\n",
       "        0.88644068, 0.89618644, 0.89533898, 0.89449153, 0.8940678 ,\n",
       "        0.89788136, 0.8970339 , 0.89872881, 0.89449153, 0.8940678 ,\n",
       "        0.89618644, 0.89533898, 0.89533898, 0.8970339 , 0.8940678 ,\n",
       "        0.89449153, 0.89788136, 0.89872881, 0.89830508, 0.89745763,\n",
       "        0.90466102, 0.91271186, 0.91610169, 0.91525424, 0.91440678,\n",
       "        0.91864407, 0.91949153, 0.91864407, 0.91483051, 0.91313559,\n",
       "        0.91694915, 0.91610169, 0.91737288, 0.91483051, 0.91822034,\n",
       "        0.91525424, 0.91779661, 0.91779661, 0.91779661, 0.91991525]),\n",
       " 'mean_test_score': array([0.79767746, 0.82373603, 0.83644753, 0.82856618, 0.83140525,\n",
       "        0.82729499, 0.82712554, 0.82386313, 0.82115125, 0.8203465 ,\n",
       "        0.81712622, 0.81606697, 0.8156009 , 0.81538893, 0.81704154,\n",
       "        0.81471105, 0.81899057, 0.81784648, 0.81704142, 0.81636349,\n",
       "        0.8651329 , 0.87610679, 0.8749628 , 0.86992066, 0.86898863,\n",
       "        0.8707682 , 0.86996326, 0.86886164, 0.86691243, 0.86602262,\n",
       "        0.86733613, 0.86665812, 0.86864951, 0.86839523, 0.86903095,\n",
       "        0.86860726, 0.87068351, 0.87076815, 0.87161559, 0.87097994,\n",
       "        0.87928463, 0.89085205, 0.89330952, 0.89157221, 0.89284342,\n",
       "        0.89364843, 0.89364839, 0.89479242, 0.89386031, 0.89233491,\n",
       "        0.89309764, 0.89326713, 0.89381794, 0.89458063, 0.89301287,\n",
       "        0.89318242, 0.89369086, 0.89419938, 0.89398754, 0.89356375,\n",
       "        0.90021612, 0.90729219, 0.9109359 , 0.91093574, 0.91233412,\n",
       "        0.91301192, 0.91318143, 0.91402883, 0.91263055, 0.91207972,\n",
       "        0.91309658, 0.91280002, 0.91309659, 0.91296953, 0.91280006,\n",
       "        0.91313902, 0.91309659, 0.91390166, 0.913139  , 0.91407124]),\n",
       " 'std_test_score': array([0.01131216, 0.01018783, 0.00609245, 0.00901232, 0.00766527,\n",
       "        0.00769124, 0.00795644, 0.00711451, 0.00899705, 0.00736582,\n",
       "        0.00752982, 0.00790893, 0.00841743, 0.00808315, 0.00817008,\n",
       "        0.0081372 , 0.00829312, 0.00780299, 0.00803988, 0.00827178,\n",
       "        0.0065959 , 0.00333761, 0.00375818, 0.00446334, 0.00541502,\n",
       "        0.00558255, 0.00561025, 0.00597477, 0.00490625, 0.00491903,\n",
       "        0.00509346, 0.00524653, 0.00544588, 0.00544432, 0.00547448,\n",
       "        0.00455768, 0.00592709, 0.00552885, 0.00522454, 0.00561166,\n",
       "        0.00529367, 0.00513177, 0.00470437, 0.00567381, 0.00551197,\n",
       "        0.00588915, 0.0055798 , 0.00667019, 0.00497742, 0.00580183,\n",
       "        0.00590706, 0.00534661, 0.00556647, 0.00548693, 0.0053933 ,\n",
       "        0.00571291, 0.00511981, 0.00474171, 0.00499506, 0.00523179,\n",
       "        0.00754452, 0.00516224, 0.00497108, 0.00590461, 0.00486442,\n",
       "        0.00635631, 0.00618245, 0.00557808, 0.0060045 , 0.00531442,\n",
       "        0.00604875, 0.00610838, 0.00595581, 0.00565442, 0.00535954,\n",
       "        0.00477193, 0.00598588, 0.00554449, 0.00591162, 0.00579961]),\n",
       " 'rank_test_score': array([80, 67, 61, 63, 62, 64, 65, 66, 68, 69, 72, 76, 77, 78, 73, 79, 70,\n",
       "        71, 74, 75, 60, 41, 42, 49, 51, 45, 48, 52, 57, 59, 56, 58, 53, 55,\n",
       "        50, 54, 47, 46, 43, 44, 40, 39, 31, 38, 36, 28, 29, 21, 25, 37, 34,\n",
       "        32, 26, 22, 35, 33, 27, 23, 24, 30, 20, 19, 17, 18, 15, 10,  4,  2,\n",
       "        14, 16,  9, 13,  7, 11, 12,  5,  8,  3,  6,  1])}"
      ]
     },
     "execution_count": 11,
     "metadata": {},
     "output_type": "execute_result"
    }
   ],
   "source": [
    "CV_rfc.cv_results_"
   ]
  },
  {
   "cell_type": "code",
   "execution_count": 12,
   "id": "1c2d94c4",
   "metadata": {},
   "outputs": [
    {
     "data": {
      "text/plain": [
       "{'max_depth': 8, 'n_estimators': 200}"
      ]
     },
     "execution_count": 12,
     "metadata": {},
     "output_type": "execute_result"
    }
   ],
   "source": [
    "CV_rfc.best_params_"
   ]
  },
  {
   "cell_type": "code",
   "execution_count": 13,
   "id": "4982a4f0",
   "metadata": {},
   "outputs": [
    {
     "data": {
      "text/plain": [
       "<bound method BaseEstimator.get_params of GridSearchCV(cv=10, estimator=RandomForestClassifier(random_state=42),\n",
       "             param_grid={'max_depth': [2, 4, 6, 8],\n",
       "                         'n_estimators': [10, 20, 30, 40, 50, 60, 70, 80, 90,\n",
       "                                          100, 110, 120, 130, 140, 150, 160,\n",
       "                                          170, 180, 190, 200]})>"
      ]
     },
     "execution_count": 13,
     "metadata": {},
     "output_type": "execute_result"
    }
   ],
   "source": [
    "CV_rfc.get_params"
   ]
  },
  {
   "cell_type": "code",
   "execution_count": 14,
   "id": "78ae852d",
   "metadata": {},
   "outputs": [],
   "source": [
    "# Training model with best parameters:\n",
    "rfc = RandomForestClassifier(max_depth= 8, n_estimators= 200, random_state=42).fit(X_train_scaled,y_train)"
   ]
  },
  {
   "cell_type": "code",
   "execution_count": 15,
   "id": "0a69be5e",
   "metadata": {},
   "outputs": [
    {
     "data": {
      "text/plain": [
       "0.9155544256599296"
      ]
     },
     "execution_count": 15,
     "metadata": {},
     "output_type": "execute_result"
    }
   ],
   "source": [
    "# Accuracy for training dataset:\n",
    "rfc.score(X_train_scaled,y_train)"
   ]
  },
  {
   "attachments": {},
   "cell_type": "markdown",
   "id": "2271c3c0",
   "metadata": {},
   "source": [
    "### b) For each model, report the selected hyperparameters and the accuracy, recall, precision and F1-score metrics in the test data. Also plot the ROC curve and the Precision-Recall curve for each optimized model."
   ]
  },
  {
   "cell_type": "code",
   "execution_count": 16,
   "id": "d8b6f0e1",
   "metadata": {},
   "outputs": [
    {
     "data": {
      "text/plain": [
       "0.9117152743450321"
      ]
     },
     "execution_count": 16,
     "metadata": {},
     "output_type": "execute_result"
    }
   ],
   "source": [
    "# Accuracy for test dataset:\n",
    "pred = rfc.predict(X_test_scaled)\n",
    "accuracy_score(y_test, pred)"
   ]
  },
  {
   "cell_type": "code",
   "execution_count": 17,
   "id": "64ce205e",
   "metadata": {
    "scrolled": true
   },
   "outputs": [
    {
     "name": "stdout",
     "output_type": "stream",
     "text": [
      "              precision    recall  f1-score   support\n",
      "\n",
      "         0.0       1.00      0.82      0.90      4945\n",
      "         1.0       0.85      1.00      0.92      5170\n",
      "\n",
      "    accuracy                           0.91     10115\n",
      "   macro avg       0.93      0.91      0.91     10115\n",
      "weighted avg       0.92      0.91      0.91     10115\n",
      "\n"
     ]
    }
   ],
   "source": [
    "print(classification_report(y_test, pred))"
   ]
  },
  {
   "cell_type": "code",
   "execution_count": 18,
   "id": "adb83b03",
   "metadata": {},
   "outputs": [
    {
     "data": {
      "text/plain": [
       "<bound method BaseEstimator.get_params of RandomForestClassifier(max_depth=8, n_estimators=200, random_state=42)>"
      ]
     },
     "execution_count": 18,
     "metadata": {},
     "output_type": "execute_result"
    }
   ],
   "source": [
    "rfc.get_params"
   ]
  },
  {
   "cell_type": "code",
   "execution_count": 19,
   "id": "d0bb0aee",
   "metadata": {},
   "outputs": [
    {
     "data": {
      "image/png": "[encoded data removed]",
      "text/plain": [
       "<Figure size 640x480 with 1 Axes>"
      ]
     },
     "metadata": {},
     "output_type": "display_data"
    }
   ],
   "source": [
    "# ROC curve\n",
    "ax = plt.gca()\n",
    "rfc_disp = RocCurveDisplay.from_estimator(rfc, X_test_scaled, y_test, ax=ax)"
   ]
  },
  {
   "cell_type": "code",
   "execution_count": 20,
   "id": "d9715846",
   "metadata": {
    "scrolled": true
   },
   "outputs": [
    {
     "data": {
      "text/plain": [
       "<sklearn.metrics._plot.precision_recall_curve.PrecisionRecallDisplay at 0x1ff38d4cd60>"
      ]
     },
     "execution_count": 20,
     "metadata": {},
     "output_type": "execute_result"
    },
    {
     "data": {
      "image/png": "[encoded data removed]",
      "text/plain": [
       "<Figure size 640x480 with 1 Axes>"
      ]
     },
     "metadata": {},
     "output_type": "display_data"
    }
   ],
   "source": [
    "# Precision Recall\n",
    "precision, recall, _ = precision_recall_curve(y_test, pred)\n",
    "disp = PrecisionRecallDisplay(precision=precision, recall=recall)\n",
    "disp.plot()"
   ]
  }
 ],
 "metadata": {
  "kernelspec": {
   "display_name": "Python 3 (ipykernel)",
   "language": "python",
   "name": "python3"
  },
  "language_info": {
   "codemirror_mode": {
    "name": "ipython",
    "version": 3
   },
   "file_extension": ".py",
   "mimetype": "text/x-python",
   "name": "python",
   "nbconvert_exporter": "python",
   "pygments_lexer": "ipython3",
   "version": "3.10.10"
  }
 },
 "nbformat": 4,
 "nbformat_minor": 5
}
