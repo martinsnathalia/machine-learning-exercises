{
 "cells": [
  {
   "cell_type": "markdown",
   "id": "79e1beb3",
   "metadata": {},
   "source": [
    "# Lista 4 - Comitês de modelos"
   ]
  },
  {
   "cell_type": "markdown",
   "id": "93c1adf6",
   "metadata": {},
   "source": [
    "### Disciplina: Aprendizado de Máquina\n",
    "### Professor: César Lincoln Cavalcante Mattos\n",
    "### Período: 2022.1\n",
    "### Aluna: Nathália Cavalcanti Martins"
   ]
  },
  {
   "cell_type": "markdown",
   "id": "c37766e5",
   "metadata": {},
   "source": [
    "### Questão 1: Considere o conjunto de dados parcial disponível em enron_spam_data_prep.csv, organizado em 1001 colunas, sendo as 1000 primeiras colunas atributos textuais (codificados em TF-IDF) e a última coluna a saída. Os dados representam informações contidas em e-mails trocados internamente na empresa Enron em 2005. A saída é binária: 0, para mensagens regulares (''ham''); 1, para mensagens indesejáveis (''spam''). Maiores detalhes sobre os dados podem ser conferidos em https://github.com/MWiechmann/enron_spam_data."
   ]
  },
  {
   "cell_type": "markdown",
   "id": "e3e72d2b",
   "metadata": {},
   "source": [
    "### a) Considerando uma divisão de 70% dos padrões para treinamento e 30% para teste, avalie modelos de classificação binária nos dados em questão. Para tanto, use as abordagens abaixo:\n",
    "**-Random Forest: Use grid-search para ajustar o número de classificadores base (valores 10, 20, : : :, 180, 190, 200) e a máxima profundidade (max depth, valores 2, 4, 6, 8 ou máxima (None no sklearn)).**"
   ]
  },
  {
   "cell_type": "markdown",
   "id": "bebeacb5",
   "metadata": {},
   "source": [
    "Observação: Use validações cruzadas em 10 folds no interior do grid-search."
   ]
  },
  {
   "cell_type": "code",
   "execution_count": 60,
   "id": "de3fbf93",
   "metadata": {},
   "outputs": [],
   "source": [
    "# Importando bibliotecas\n",
    "import numpy as np\n",
    "from sklearn.model_selection import train_test_split\n",
    "from sklearn.preprocessing import StandardScaler\n",
    "from sklearn.metrics import classification_report\n",
    "from sklearn.metrics import accuracy_score\n",
    "from matplotlib import pyplot as plt\n",
    "from sklearn.model_selection import GridSearchCV\n",
    "from sklearn.ensemble import RandomForestClassifier\n",
    "from sklearn.metrics import RocCurveDisplay\n",
    "from sklearn.metrics import (precision_recall_curve, PrecisionRecallDisplay)"
   ]
  },
  {
   "cell_type": "code",
   "execution_count": 2,
   "id": "4797e519",
   "metadata": {},
   "outputs": [
    {
     "data": {
      "text/plain": [
       "(33716, 1001)"
      ]
     },
     "execution_count": 2,
     "metadata": {},
     "output_type": "execute_result"
    }
   ],
   "source": [
    "# Importando a base de dados:\n",
    "base_dados = np.genfromtxt(\"enron_spam_data_prep.csv\", delimiter = ',')\n",
    "base_dados.shape"
   ]
  },
  {
   "cell_type": "code",
   "execution_count": 41,
   "id": "5ceb664e",
   "metadata": {},
   "outputs": [],
   "source": [
    "# Separando a base entre atributos (x) e target (y):\n",
    "x = base_dados[:,:-1]\n",
    "y = base_dados[:,-1]"
   ]
  },
  {
   "cell_type": "code",
   "execution_count": 42,
   "id": "7f1a64e1",
   "metadata": {},
   "outputs": [
    {
     "data": {
      "text/plain": [
       "((33716, 1000), (33716,))"
      ]
     },
     "execution_count": 42,
     "metadata": {},
     "output_type": "execute_result"
    }
   ],
   "source": [
    "# Verificando o tamanho de cada:\n",
    "x.shape, y.shape"
   ]
  },
  {
   "cell_type": "code",
   "execution_count": 43,
   "id": "87db2ec4",
   "metadata": {},
   "outputs": [],
   "source": [
    "# Divsão dos dados em treino e teste:\n",
    "x_train, x_test, y_train, y_test = train_test_split(x, y, test_size=0.3, random_state=42)"
   ]
  },
  {
   "cell_type": "code",
   "execution_count": 44,
   "id": "8b068313",
   "metadata": {},
   "outputs": [],
   "source": [
    "# Padronização\n",
    "scaler = StandardScaler().fit(x_train)\n",
    "X_train_scaled = scaler.transform(x_train)\n",
    "X_test_scaled = scaler.transform(x_test)"
   ]
  },
  {
   "cell_type": "code",
   "execution_count": 46,
   "id": "32281694",
   "metadata": {},
   "outputs": [],
   "source": [
    "est = [10*x for x in range(1,21)]"
   ]
  },
  {
   "cell_type": "code",
   "execution_count": 47,
   "id": "537990a9",
   "metadata": {},
   "outputs": [],
   "source": [
    "# Parâmetros:\n",
    "param_grid = { \n",
    "    'n_estimators': est,\n",
    "    'max_depth' : [2,4,6,8],\n",
    "}"
   ]
  },
  {
   "cell_type": "code",
   "execution_count": 45,
   "id": "80a0c848",
   "metadata": {},
   "outputs": [],
   "source": [
    "# Modelo Random Forest\n",
    "rfc=RandomForestClassifier(random_state=42)"
   ]
  },
  {
   "cell_type": "code",
   "execution_count": 48,
   "id": "53198912",
   "metadata": {},
   "outputs": [],
   "source": [
    "# Grid Search\n",
    "CV_rfc = GridSearchCV(estimator=rfc, param_grid=param_grid, cv= 10).fit(X_train_scaled, y_train)"
   ]
  },
  {
   "cell_type": "code",
   "execution_count": 49,
   "id": "21b2ddfe",
   "metadata": {},
   "outputs": [
    {
     "data": {
      "text/plain": [
       "{'mean_fit_time': array([0.21841788, 0.33340938, 0.46331038, 0.59394054, 0.72889845,\n",
       "        0.84233065, 0.93349438, 1.05024474, 1.16046357, 1.34921885,\n",
       "        1.47254934, 1.59564538, 1.77745204, 1.8619961 , 2.00950499,\n",
       "        2.15523829, 2.30319839, 2.40069237, 2.62608249, 2.76827865,\n",
       "        0.32954178, 0.55369132, 0.83003399, 1.11566396, 1.35908747,\n",
       "        1.49182343, 1.69383428, 1.95022976, 2.18998692, 2.28580496,\n",
       "        2.35311387, 2.54144573, 2.72465982, 3.12555685, 3.49311814,\n",
       "        3.82669392, 4.04979322, 4.2661011 , 4.50854795, 4.72275579,\n",
       "        0.41258469, 0.76822853, 1.06764817, 1.4019963 , 1.66576352,\n",
       "        1.82788889, 2.07216003, 2.37459085, 2.66091213, 2.92590392,\n",
       "        3.42683647, 3.84183948, 4.30036256, 4.62856255, 4.96575711,\n",
       "        5.36546435, 5.53505609, 5.84967594, 6.00168536, 6.33501663,\n",
       "        0.48619905, 0.86213393, 1.25143416, 1.70720768, 2.01330912,\n",
       "        2.65782852, 3.00872459, 3.60322943, 3.91797104, 4.06044095,\n",
       "        4.44444885, 4.94159775, 5.66537113, 5.88469231, 6.05681355,\n",
       "        6.53004515, 7.0146733 , 7.38853042, 8.10574419, 9.39625397]),\n",
       " 'std_fit_time': array([0.01453799, 0.00563909, 0.00839967, 0.02007706, 0.01571725,\n",
       "        0.02835501, 0.00979243, 0.00522772, 0.0079459 , 0.04389181,\n",
       "        0.02476778, 0.04011454, 0.03845431, 0.05607565, 0.05381963,\n",
       "        0.01131867, 0.04594621, 0.00659207, 0.06810923, 0.04570572,\n",
       "        0.01677368, 0.0030565 , 0.03137612, 0.04100925, 0.05820035,\n",
       "        0.05414848, 0.04576324, 0.08282346, 0.07570611, 0.00881831,\n",
       "        0.07372136, 0.06639664, 0.00611132, 0.12916537, 0.10505716,\n",
       "        0.03476619, 0.03769258, 0.01587683, 0.01847691, 0.01113839,\n",
       "        0.00249226, 0.02264501, 0.00403099, 0.01026474, 0.05799786,\n",
       "        0.04038708, 0.01527518, 0.05256663, 0.03487146, 0.02636795,\n",
       "        0.01487215, 0.12363894, 0.01121049, 0.01608476, 0.02562204,\n",
       "        0.05442071, 0.11803342, 0.208371  , 0.21437273, 0.04750483,\n",
       "        0.02525182, 0.01770651, 0.01519813, 0.06122918, 0.03374998,\n",
       "        0.13917501, 0.07139379, 0.19393498, 0.19565634, 0.04754503,\n",
       "        0.0385381 , 0.13921281, 0.06884515, 0.13155985, 0.12684824,\n",
       "        0.09075394, 0.17443203, 0.200291  , 0.24254904, 0.7558918 ]),\n",
       " 'mean_score_time': array([0.00820355, 0.00947616, 0.01074991, 0.01265817, 0.01360869,\n",
       "        0.01417663, 0.01543884, 0.0167954 , 0.0176007 , 0.02018247,\n",
       "        0.02116532, 0.02390697, 0.02544727, 0.0259798 , 0.02585657,\n",
       "        0.0272851 , 0.0283808 , 0.02999117, 0.03186543, 0.03310502,\n",
       "        0.00886788, 0.01016057, 0.01248391, 0.01498818, 0.01641638,\n",
       "        0.01755588, 0.01821442, 0.02049506, 0.0213232 , 0.02173402,\n",
       "        0.02300024, 0.0250819 , 0.02539957, 0.02732885, 0.03100634,\n",
       "        0.03126059, 0.03291013, 0.03449867, 0.03558319, 0.03789582,\n",
       "        0.0087007 , 0.01081047, 0.01270349, 0.01480021, 0.0159692 ,\n",
       "        0.01750088, 0.018402  , 0.02063854, 0.02139263, 0.0232578 ,\n",
       "        0.02580013, 0.02800012, 0.03023775, 0.03169897, 0.03310132,\n",
       "        0.03675544, 0.03973179, 0.03915608, 0.04053159, 0.04181819,\n",
       "        0.00975862, 0.01190481, 0.01339118, 0.01449993, 0.01648519,\n",
       "        0.0193506 , 0.02236247, 0.02519009, 0.02622914, 0.02630808,\n",
       "        0.02813926, 0.0309231 , 0.0340569 , 0.03553398, 0.03610766,\n",
       "        0.03893538, 0.04057319, 0.04181976, 0.04671595, 0.05124836]),\n",
       " 'std_score_time': array([0.00097661, 0.00065502, 0.00059265, 0.00122664, 0.00136289,\n",
       "        0.00089589, 0.00018481, 0.00051112, 0.00048949, 0.00147246,\n",
       "        0.00091112, 0.00538144, 0.00234548, 0.0029733 , 0.00077734,\n",
       "        0.00047017, 0.00061084, 0.00079503, 0.00139087, 0.0007958 ,\n",
       "        0.00093428, 0.00033005, 0.00071768, 0.00087304, 0.0016914 ,\n",
       "        0.0017248 , 0.00073047, 0.00219736, 0.00093081, 0.00045259,\n",
       "        0.00178863, 0.00237589, 0.00049027, 0.00430868, 0.00194168,\n",
       "        0.00059528, 0.00054092, 0.00092418, 0.00063219, 0.00053792,\n",
       "        0.00045905, 0.00040125, 0.00045499, 0.00040032, 0.00045855,\n",
       "        0.00224698, 0.00066538, 0.0016737 , 0.00049447, 0.00040897,\n",
       "        0.00039996, 0.00089431, 0.00095165, 0.00045581, 0.00053841,\n",
       "        0.00369276, 0.00659359, 0.00215695, 0.00444223, 0.00100386,\n",
       "        0.00203834, 0.00671603, 0.00673701, 0.003924  , 0.00550379,\n",
       "        0.00446837, 0.00501597, 0.00315401, 0.00186499, 0.00079084,\n",
       "        0.00102607, 0.0011067 , 0.00169765, 0.00206591, 0.00109469,\n",
       "        0.00477991, 0.00247587, 0.00102158, 0.00363547, 0.00546721]),\n",
       " 'param_max_depth': masked_array(data=[2, 2, 2, 2, 2, 2, 2, 2, 2, 2, 2, 2, 2, 2, 2, 2, 2, 2,\n",
       "                    2, 2, 4, 4, 4, 4, 4, 4, 4, 4, 4, 4, 4, 4, 4, 4, 4, 4,\n",
       "                    4, 4, 4, 4, 6, 6, 6, 6, 6, 6, 6, 6, 6, 6, 6, 6, 6, 6,\n",
       "                    6, 6, 6, 6, 6, 6, 8, 8, 8, 8, 8, 8, 8, 8, 8, 8, 8, 8,\n",
       "                    8, 8, 8, 8, 8, 8, 8, 8],\n",
       "              mask=[False, False, False, False, False, False, False, False,\n",
       "                    False, False, False, False, False, False, False, False,\n",
       "                    False, False, False, False, False, False, False, False,\n",
       "                    False, False, False, False, False, False, False, False,\n",
       "                    False, False, False, False, False, False, False, False,\n",
       "                    False, False, False, False, False, False, False, False,\n",
       "                    False, False, False, False, False, False, False, False,\n",
       "                    False, False, False, False, False, False, False, False,\n",
       "                    False, False, False, False, False, False, False, False,\n",
       "                    False, False, False, False, False, False, False, False],\n",
       "        fill_value='?',\n",
       "             dtype=object),\n",
       " 'param_n_estimators': masked_array(data=[10, 20, 30, 40, 50, 60, 70, 80, 90, 100, 110, 120, 130,\n",
       "                    140, 150, 160, 170, 180, 190, 200, 10, 20, 30, 40, 50,\n",
       "                    60, 70, 80, 90, 100, 110, 120, 130, 140, 150, 160, 170,\n",
       "                    180, 190, 200, 10, 20, 30, 40, 50, 60, 70, 80, 90, 100,\n",
       "                    110, 120, 130, 140, 150, 160, 170, 180, 190, 200, 10,\n",
       "                    20, 30, 40, 50, 60, 70, 80, 90, 100, 110, 120, 130,\n",
       "                    140, 150, 160, 170, 180, 190, 200],\n",
       "              mask=[False, False, False, False, False, False, False, False,\n",
       "                    False, False, False, False, False, False, False, False,\n",
       "                    False, False, False, False, False, False, False, False,\n",
       "                    False, False, False, False, False, False, False, False,\n",
       "                    False, False, False, False, False, False, False, False,\n",
       "                    False, False, False, False, False, False, False, False,\n",
       "                    False, False, False, False, False, False, False, False,\n",
       "                    False, False, False, False, False, False, False, False,\n",
       "                    False, False, False, False, False, False, False, False,\n",
       "                    False, False, False, False, False, False, False, False],\n",
       "        fill_value='?',\n",
       "             dtype=object),\n",
       " 'params': [{'max_depth': 2, 'n_estimators': 10},\n",
       "  {'max_depth': 2, 'n_estimators': 20},\n",
       "  {'max_depth': 2, 'n_estimators': 30},\n",
       "  {'max_depth': 2, 'n_estimators': 40},\n",
       "  {'max_depth': 2, 'n_estimators': 50},\n",
       "  {'max_depth': 2, 'n_estimators': 60},\n",
       "  {'max_depth': 2, 'n_estimators': 70},\n",
       "  {'max_depth': 2, 'n_estimators': 80},\n",
       "  {'max_depth': 2, 'n_estimators': 90},\n",
       "  {'max_depth': 2, 'n_estimators': 100},\n",
       "  {'max_depth': 2, 'n_estimators': 110},\n",
       "  {'max_depth': 2, 'n_estimators': 120},\n",
       "  {'max_depth': 2, 'n_estimators': 130},\n",
       "  {'max_depth': 2, 'n_estimators': 140},\n",
       "  {'max_depth': 2, 'n_estimators': 150},\n",
       "  {'max_depth': 2, 'n_estimators': 160},\n",
       "  {'max_depth': 2, 'n_estimators': 170},\n",
       "  {'max_depth': 2, 'n_estimators': 180},\n",
       "  {'max_depth': 2, 'n_estimators': 190},\n",
       "  {'max_depth': 2, 'n_estimators': 200},\n",
       "  {'max_depth': 4, 'n_estimators': 10},\n",
       "  {'max_depth': 4, 'n_estimators': 20},\n",
       "  {'max_depth': 4, 'n_estimators': 30},\n",
       "  {'max_depth': 4, 'n_estimators': 40},\n",
       "  {'max_depth': 4, 'n_estimators': 50},\n",
       "  {'max_depth': 4, 'n_estimators': 60},\n",
       "  {'max_depth': 4, 'n_estimators': 70},\n",
       "  {'max_depth': 4, 'n_estimators': 80},\n",
       "  {'max_depth': 4, 'n_estimators': 90},\n",
       "  {'max_depth': 4, 'n_estimators': 100},\n",
       "  {'max_depth': 4, 'n_estimators': 110},\n",
       "  {'max_depth': 4, 'n_estimators': 120},\n",
       "  {'max_depth': 4, 'n_estimators': 130},\n",
       "  {'max_depth': 4, 'n_estimators': 140},\n",
       "  {'max_depth': 4, 'n_estimators': 150},\n",
       "  {'max_depth': 4, 'n_estimators': 160},\n",
       "  {'max_depth': 4, 'n_estimators': 170},\n",
       "  {'max_depth': 4, 'n_estimators': 180},\n",
       "  {'max_depth': 4, 'n_estimators': 190},\n",
       "  {'max_depth': 4, 'n_estimators': 200},\n",
       "  {'max_depth': 6, 'n_estimators': 10},\n",
       "  {'max_depth': 6, 'n_estimators': 20},\n",
       "  {'max_depth': 6, 'n_estimators': 30},\n",
       "  {'max_depth': 6, 'n_estimators': 40},\n",
       "  {'max_depth': 6, 'n_estimators': 50},\n",
       "  {'max_depth': 6, 'n_estimators': 60},\n",
       "  {'max_depth': 6, 'n_estimators': 70},\n",
       "  {'max_depth': 6, 'n_estimators': 80},\n",
       "  {'max_depth': 6, 'n_estimators': 90},\n",
       "  {'max_depth': 6, 'n_estimators': 100},\n",
       "  {'max_depth': 6, 'n_estimators': 110},\n",
       "  {'max_depth': 6, 'n_estimators': 120},\n",
       "  {'max_depth': 6, 'n_estimators': 130},\n",
       "  {'max_depth': 6, 'n_estimators': 140},\n",
       "  {'max_depth': 6, 'n_estimators': 150},\n",
       "  {'max_depth': 6, 'n_estimators': 160},\n",
       "  {'max_depth': 6, 'n_estimators': 170},\n",
       "  {'max_depth': 6, 'n_estimators': 180},\n",
       "  {'max_depth': 6, 'n_estimators': 190},\n",
       "  {'max_depth': 6, 'n_estimators': 200},\n",
       "  {'max_depth': 8, 'n_estimators': 10},\n",
       "  {'max_depth': 8, 'n_estimators': 20},\n",
       "  {'max_depth': 8, 'n_estimators': 30},\n",
       "  {'max_depth': 8, 'n_estimators': 40},\n",
       "  {'max_depth': 8, 'n_estimators': 50},\n",
       "  {'max_depth': 8, 'n_estimators': 60},\n",
       "  {'max_depth': 8, 'n_estimators': 70},\n",
       "  {'max_depth': 8, 'n_estimators': 80},\n",
       "  {'max_depth': 8, 'n_estimators': 90},\n",
       "  {'max_depth': 8, 'n_estimators': 100},\n",
       "  {'max_depth': 8, 'n_estimators': 110},\n",
       "  {'max_depth': 8, 'n_estimators': 120},\n",
       "  {'max_depth': 8, 'n_estimators': 130},\n",
       "  {'max_depth': 8, 'n_estimators': 140},\n",
       "  {'max_depth': 8, 'n_estimators': 150},\n",
       "  {'max_depth': 8, 'n_estimators': 160},\n",
       "  {'max_depth': 8, 'n_estimators': 170},\n",
       "  {'max_depth': 8, 'n_estimators': 180},\n",
       "  {'max_depth': 8, 'n_estimators': 190},\n",
       "  {'max_depth': 8, 'n_estimators': 200}],\n",
       " 'split0_test_score': array([0.81194409, 0.82973316, 0.83820415, 0.83820415, 0.8360864 ,\n",
       "        0.83820415, 0.83735705, 0.83015671, 0.83058026, 0.82253283,\n",
       "        0.82126218, 0.81956798, 0.81872088, 0.82126218, 0.81956798,\n",
       "        0.81914443, 0.82253283, 0.82295637, 0.82253283, 0.82168573,\n",
       "        0.86361711, 0.87971199, 0.87801779, 0.87251165, 0.86827615,\n",
       "        0.8703939 , 0.86700551, 0.86531131, 0.86658196, 0.86615841,\n",
       "        0.86742906, 0.86827615, 0.87166455, 0.87251165, 0.8695468 ,\n",
       "        0.8686997 , 0.86912325, 0.87166455, 0.8720881 , 0.87335875,\n",
       "        0.88267683, 0.89157137, 0.89538331, 0.89580686, 0.89538331,\n",
       "        0.89707751, 0.89792461, 0.89877171, 0.89665396, 0.89623041,\n",
       "        0.89580686, 0.89580686, 0.89665396, 0.89707751, 0.89623041,\n",
       "        0.89495976, 0.89580686, 0.89453621, 0.89411266, 0.89538331,\n",
       "        0.89961881, 0.90427785, 0.91274884, 0.91656078, 0.91486658,\n",
       "        0.91867853, 0.91825498, 0.91952562, 0.91910208, 0.91867853,\n",
       "        0.92079627, 0.91952562, 0.92037272, 0.91910208, 0.91867853,\n",
       "        0.91910208, 0.92037272, 0.92079627, 0.91952562, 0.91867853]),\n",
       " 'split1_test_score': array([0.81355932, 0.83347458, 0.83983051, 0.83347458, 0.83220339,\n",
       "        0.825     , 0.82627119, 0.82711864, 0.82584746, 0.82754237,\n",
       "        0.82076271, 0.82415254, 0.82288136, 0.82457627, 0.82711864,\n",
       "        0.82288136, 0.82881356, 0.82245763, 0.82330508, 0.8220339 ,\n",
       "        0.85677966, 0.87372881, 0.8779661 , 0.86779661, 0.87033898,\n",
       "        0.86949153, 0.87118644, 0.87161017, 0.86822034, 0.86822034,\n",
       "        0.8720339 , 0.86991525, 0.86949153, 0.8720339 , 0.8720339 ,\n",
       "        0.8720339 , 0.87245763, 0.87372881, 0.8720339 , 0.87245763,\n",
       "        0.87754237, 0.89279661, 0.89576271, 0.88559322, 0.89364407,\n",
       "        0.89279661, 0.89533898, 0.89576271, 0.8970339 , 0.89533898,\n",
       "        0.89533898, 0.8940678 , 0.89491525, 0.89533898, 0.8940678 ,\n",
       "        0.89533898, 0.89152542, 0.8940678 , 0.8940678 , 0.89449153,\n",
       "        0.89915254, 0.90847458, 0.91016949, 0.90550847, 0.91440678,\n",
       "        0.91398305, 0.91228814, 0.91313559, 0.91355932, 0.91144068,\n",
       "        0.91228814, 0.91059322, 0.91186441, 0.91440678, 0.91016949,\n",
       "        0.90889831, 0.90847458, 0.90932203, 0.91016949, 0.91059322]),\n",
       " 'split2_test_score': array([0.80211864, 0.81949153, 0.84491525, 0.84279661, 0.84364407,\n",
       "        0.83347458, 0.83347458, 0.82838983, 0.82838983, 0.825     ,\n",
       "        0.82118644, 0.81779661, 0.81440678, 0.81694915, 0.8220339 ,\n",
       "        0.8220339 , 0.81822034, 0.81991525, 0.81864407, 0.8190678 ,\n",
       "        0.86228814, 0.87161017, 0.87372881, 0.86991525, 0.86864407,\n",
       "        0.8690678 , 0.86694915, 0.86991525, 0.86694915, 0.86440678,\n",
       "        0.86567797, 0.86440678, 0.86567797, 0.86483051, 0.86567797,\n",
       "        0.86652542, 0.86567797, 0.86567797, 0.86779661, 0.86610169,\n",
       "        0.87923729, 0.89194915, 0.89449153, 0.89110169, 0.89618644,\n",
       "        0.8940678 , 0.89322034, 0.89364407, 0.89491525, 0.89279661,\n",
       "        0.89364407, 0.89491525, 0.89533898, 0.89449153, 0.89237288,\n",
       "        0.89237288, 0.89533898, 0.89449153, 0.89576271, 0.89152542,\n",
       "        0.90762712, 0.90635593, 0.91059322, 0.91440678, 0.91440678,\n",
       "        0.91525424, 0.91355932, 0.91313559, 0.91059322, 0.91440678,\n",
       "        0.91355932, 0.91440678, 0.91483051, 0.91610169, 0.91483051,\n",
       "        0.91525424, 0.91483051, 0.91652542, 0.91440678, 0.91822034]),\n",
       " 'split3_test_score': array([0.79364407, 0.82076271, 0.82627119, 0.81228814, 0.81779661,\n",
       "        0.81779661, 0.80889831, 0.80677966, 0.80084746, 0.80338983,\n",
       "        0.79957627, 0.79957627, 0.79788136, 0.79915254, 0.80127119,\n",
       "        0.8       , 0.80338983, 0.80169492, 0.80084746, 0.79957627,\n",
       "        0.85550847, 0.87330508, 0.86652542, 0.85974576, 0.85508475,\n",
       "        0.85932203, 0.85762712, 0.85381356, 0.85466102, 0.85508475,\n",
       "        0.85550847, 0.85466102, 0.85635593, 0.8559322 , 0.85720339,\n",
       "        0.85762712, 0.85635593, 0.85847458, 0.85974576, 0.85932203,\n",
       "        0.8690678 , 0.87711864, 0.88135593, 0.88050847, 0.88008475,\n",
       "        0.8809322 , 0.8809322 , 0.8779661 , 0.88220339, 0.8779661 ,\n",
       "        0.87881356, 0.88050847, 0.87966102, 0.88135593, 0.87923729,\n",
       "        0.87881356, 0.88008475, 0.88220339, 0.88135593, 0.88135593,\n",
       "        0.88050847, 0.8940678 , 0.89745763, 0.89745763, 0.89957627,\n",
       "        0.89788136, 0.9       , 0.90127119, 0.89830508, 0.89915254,\n",
       "        0.89957627, 0.89872881, 0.89830508, 0.89915254, 0.90127119,\n",
       "        0.9029661 , 0.89957627, 0.90254237, 0.89830508, 0.90127119]),\n",
       " 'split4_test_score': array([0.78347458, 0.83474576, 0.83305085, 0.82372881, 0.825     ,\n",
       "        0.82457627, 0.82415254, 0.8220339 , 0.81567797, 0.82118644,\n",
       "        0.81694915, 0.81440678, 0.81398305, 0.81525424, 0.81483051,\n",
       "        0.81355932, 0.81737288, 0.81737288, 0.81440678, 0.81440678,\n",
       "        0.86864407, 0.87627119, 0.8779661 , 0.87118644, 0.87161017,\n",
       "        0.87627119, 0.87245763, 0.87288136, 0.86864407, 0.87118644,\n",
       "        0.87118644, 0.87161017, 0.87542373, 0.87372881, 0.87415254,\n",
       "        0.87330508, 0.87415254, 0.87245763, 0.875     , 0.87457627,\n",
       "        0.88474576, 0.89491525, 0.89745763, 0.89915254, 0.89788136,\n",
       "        0.9       , 0.9       , 0.90169492, 0.89915254, 0.89957627,\n",
       "        0.90042373, 0.89872881, 0.89745763, 0.89745763, 0.89576271,\n",
       "        0.89745763, 0.8970339 , 0.89830508, 0.89830508, 0.89788136,\n",
       "        0.90466102, 0.91101695, 0.91525424, 0.91610169, 0.91652542,\n",
       "        0.9190678 , 0.9190678 , 0.9190678 , 0.91822034, 0.91864407,\n",
       "        0.91991525, 0.91949153, 0.91864407, 0.91949153, 0.91864407,\n",
       "        0.91864407, 0.91779661, 0.92033898, 0.91822034, 0.91949153]),\n",
       " 'split5_test_score': array([0.78305085, 0.80550847, 0.83050847, 0.82118644, 0.82669492,\n",
       "        0.82669492, 0.82415254, 0.82288136, 0.82118644, 0.81864407,\n",
       "        0.81652542, 0.81567797, 0.81652542, 0.81483051, 0.81440678,\n",
       "        0.81144068, 0.81949153, 0.81737288, 0.81864407, 0.81737288,\n",
       "        0.86016949, 0.87415254, 0.8720339 , 0.86737288, 0.87076271,\n",
       "        0.87415254, 0.87245763, 0.8720339 , 0.86949153, 0.86355932,\n",
       "        0.86652542, 0.86652542, 0.8690678 , 0.86694915, 0.86949153,\n",
       "        0.86822034, 0.875     , 0.87457627, 0.87457627, 0.87118644,\n",
       "        0.87838983, 0.88728814, 0.89152542, 0.89152542, 0.89025424,\n",
       "        0.89152542, 0.89152542, 0.89576271, 0.89194915, 0.89237288,\n",
       "        0.89110169, 0.89237288, 0.8940678 , 0.89449153, 0.89364407,\n",
       "        0.89533898, 0.89364407, 0.89237288, 0.89322034, 0.89152542,\n",
       "        0.89745763, 0.90635593, 0.91059322, 0.91186441, 0.91144068,\n",
       "        0.90847458, 0.91186441, 0.91313559, 0.91355932, 0.91059322,\n",
       "        0.91016949, 0.91228814, 0.91228814, 0.91271186, 0.91186441,\n",
       "        0.91271186, 0.91398305, 0.91355932, 0.91483051, 0.91483051]),\n",
       " 'split6_test_score': array([0.78728814, 0.80889831, 0.8309322 , 0.81864407, 0.82415254,\n",
       "        0.81271186, 0.81991525, 0.81610169, 0.81101695, 0.81144068,\n",
       "        0.80720339, 0.80423729, 0.80381356, 0.8029661 , 0.80466102,\n",
       "        0.80042373, 0.80466102, 0.80466102, 0.80338983, 0.80211864,\n",
       "        0.86398305, 0.87372881, 0.8720339 , 0.8690678 , 0.86525424,\n",
       "        0.86313559, 0.86610169, 0.86398305, 0.86186441, 0.86271186,\n",
       "        0.86271186, 0.86016949, 0.86313559, 0.86355932, 0.86271186,\n",
       "        0.86525424, 0.86779661, 0.86483051, 0.86610169, 0.86398305,\n",
       "        0.87330508, 0.89194915, 0.88898305, 0.88686441, 0.88983051,\n",
       "        0.88898305, 0.89025424, 0.89364407, 0.89110169, 0.89067797,\n",
       "        0.89152542, 0.88983051, 0.89067797, 0.89237288, 0.89110169,\n",
       "        0.89322034, 0.89364407, 0.89364407, 0.89279661, 0.89194915,\n",
       "        0.90211864, 0.91059322, 0.91144068, 0.91059322, 0.91228814,\n",
       "        0.91228814, 0.91525424, 0.91567797, 0.91355932, 0.91355932,\n",
       "        0.91313559, 0.91186441, 0.91144068, 0.91016949, 0.90889831,\n",
       "        0.91101695, 0.90974576, 0.91144068, 0.91016949, 0.91101695]),\n",
       " 'split7_test_score': array([0.79533898, 0.82711864, 0.84364407, 0.83135593, 0.84152542,\n",
       "        0.83728814, 0.83389831, 0.82966102, 0.83050847, 0.82966102,\n",
       "        0.82627119, 0.82542373, 0.825     , 0.82415254, 0.82415254,\n",
       "        0.82161017, 0.82542373, 0.82330508, 0.8220339 , 0.8220339 ,\n",
       "        0.87669492, 0.87966102, 0.87627119, 0.87584746, 0.87627119,\n",
       "        0.87838983, 0.8779661 , 0.87288136, 0.87245763, 0.87415254,\n",
       "        0.87457627, 0.8720339 , 0.87542373, 0.87457627, 0.87584746,\n",
       "        0.87415254, 0.87754237, 0.87457627, 0.87711864, 0.87711864,\n",
       "        0.88516949, 0.8940678 , 0.89788136, 0.89915254, 0.90127119,\n",
       "        0.90254237, 0.90042373, 0.90211864, 0.90042373, 0.8970339 ,\n",
       "        0.89957627, 0.90084746, 0.90211864, 0.90423729, 0.90169492,\n",
       "        0.90127119, 0.89957627, 0.90042373, 0.90042373, 0.90211864,\n",
       "        0.90847458, 0.91228814, 0.91483051, 0.91567797, 0.91694915,\n",
       "        0.91779661, 0.91779661, 0.9190678 , 0.91822034, 0.91313559,\n",
       "        0.91737288, 0.91822034, 0.91652542, 0.91525424, 0.91652542,\n",
       "        0.91737288, 0.91864407, 0.91779661, 0.91694915, 0.91822034]),\n",
       " 'split8_test_score': array([0.81313559, 0.83728814, 0.84322034, 0.83516949, 0.83474576,\n",
       "        0.83135593, 0.83135593, 0.83050847, 0.82415254, 0.82288136,\n",
       "        0.8220339 , 0.82245763, 0.82542373, 0.82118644, 0.82542373,\n",
       "        0.82118644, 0.82754237, 0.82627119, 0.82584746, 0.82542373,\n",
       "        0.87118644, 0.88262712, 0.87966102, 0.87627119, 0.87330508,\n",
       "        0.87415254, 0.87076271, 0.87118644, 0.8690678 , 0.86652542,\n",
       "        0.86822034, 0.86864407, 0.86991525, 0.8690678 , 0.87415254,\n",
       "        0.87118644, 0.87542373, 0.87627119, 0.87542373, 0.87542373,\n",
       "        0.87627119, 0.89067797, 0.89491525, 0.89152542, 0.88983051,\n",
       "        0.89067797, 0.88983051, 0.88983051, 0.89067797, 0.88728814,\n",
       "        0.88855932, 0.89025424, 0.89194915, 0.89194915, 0.89194915,\n",
       "        0.88855932, 0.89237288, 0.89322034, 0.89152542, 0.89194915,\n",
       "        0.89788136, 0.90677966, 0.91016949, 0.9059322 , 0.90847458,\n",
       "        0.90805085, 0.90423729, 0.90762712, 0.90635593, 0.90805085,\n",
       "        0.90720339, 0.90677966, 0.90932203, 0.90847458, 0.90889831,\n",
       "        0.91016949, 0.90974576, 0.90889831, 0.91101695, 0.90847458]),\n",
       " 'split9_test_score': array([0.79322034, 0.82033898, 0.83389831, 0.82881356, 0.83220339,\n",
       "        0.82584746, 0.83177966, 0.825     , 0.82330508, 0.82118644,\n",
       "        0.81949153, 0.81737288, 0.81737288, 0.81355932, 0.81694915,\n",
       "        0.81483051, 0.82245763, 0.82245763, 0.82076271, 0.81991525,\n",
       "        0.87245763, 0.87627119, 0.87542373, 0.86949153, 0.87033898,\n",
       "        0.87330508, 0.87711864, 0.875     , 0.87118644, 0.86822034,\n",
       "        0.86949153, 0.87033898, 0.87033898, 0.87076271, 0.86949153,\n",
       "        0.8690678 , 0.87330508, 0.87542373, 0.87627119, 0.87627119,\n",
       "        0.88644068, 0.89618644, 0.89533898, 0.89449153, 0.8940678 ,\n",
       "        0.89788136, 0.8970339 , 0.89872881, 0.89449153, 0.8940678 ,\n",
       "        0.89618644, 0.89533898, 0.89533898, 0.8970339 , 0.8940678 ,\n",
       "        0.89449153, 0.89788136, 0.89872881, 0.89830508, 0.89745763,\n",
       "        0.90466102, 0.91271186, 0.91610169, 0.91525424, 0.91440678,\n",
       "        0.91864407, 0.91949153, 0.91864407, 0.91483051, 0.91313559,\n",
       "        0.91694915, 0.91610169, 0.91737288, 0.91483051, 0.91822034,\n",
       "        0.91525424, 0.91779661, 0.91779661, 0.91779661, 0.91991525]),\n",
       " 'mean_test_score': array([0.79767746, 0.82373603, 0.83644753, 0.82856618, 0.83140525,\n",
       "        0.82729499, 0.82712554, 0.82386313, 0.82115125, 0.8203465 ,\n",
       "        0.81712622, 0.81606697, 0.8156009 , 0.81538893, 0.81704154,\n",
       "        0.81471105, 0.81899057, 0.81784648, 0.81704142, 0.81636349,\n",
       "        0.8651329 , 0.87610679, 0.8749628 , 0.86992066, 0.86898863,\n",
       "        0.8707682 , 0.86996326, 0.86886164, 0.86691243, 0.86602262,\n",
       "        0.86733613, 0.86665812, 0.86864951, 0.86839523, 0.86903095,\n",
       "        0.86860726, 0.87068351, 0.87076815, 0.87161559, 0.87097994,\n",
       "        0.87928463, 0.89085205, 0.89330952, 0.89157221, 0.89284342,\n",
       "        0.89364843, 0.89364839, 0.89479242, 0.89386031, 0.89233491,\n",
       "        0.89309764, 0.89326713, 0.89381794, 0.89458063, 0.89301287,\n",
       "        0.89318242, 0.89369086, 0.89419938, 0.89398754, 0.89356375,\n",
       "        0.90021612, 0.90729219, 0.9109359 , 0.91093574, 0.91233412,\n",
       "        0.91301192, 0.91318143, 0.91402883, 0.91263055, 0.91207972,\n",
       "        0.91309658, 0.91280002, 0.91309659, 0.91296953, 0.91280006,\n",
       "        0.91313902, 0.91309659, 0.91390166, 0.913139  , 0.91407124]),\n",
       " 'std_test_score': array([0.01131216, 0.01018783, 0.00609245, 0.00901232, 0.00766527,\n",
       "        0.00769124, 0.00795644, 0.00711451, 0.00899705, 0.00736582,\n",
       "        0.00752982, 0.00790893, 0.00841743, 0.00808315, 0.00817008,\n",
       "        0.0081372 , 0.00829312, 0.00780299, 0.00803988, 0.00827178,\n",
       "        0.0065959 , 0.00333761, 0.00375818, 0.00446334, 0.00541502,\n",
       "        0.00558255, 0.00561025, 0.00597477, 0.00490625, 0.00491903,\n",
       "        0.00509346, 0.00524653, 0.00544588, 0.00544432, 0.00547448,\n",
       "        0.00455768, 0.00592709, 0.00552885, 0.00522454, 0.00561166,\n",
       "        0.00529367, 0.00513177, 0.00470437, 0.00567381, 0.00551197,\n",
       "        0.00588915, 0.0055798 , 0.00667019, 0.00497742, 0.00580183,\n",
       "        0.00590706, 0.00534661, 0.00556647, 0.00548693, 0.0053933 ,\n",
       "        0.00571291, 0.00511981, 0.00474171, 0.00499506, 0.00523179,\n",
       "        0.00754452, 0.00516224, 0.00497108, 0.00590461, 0.00486442,\n",
       "        0.00635631, 0.00618245, 0.00557808, 0.0060045 , 0.00531442,\n",
       "        0.00604875, 0.00610838, 0.00595581, 0.00565442, 0.00535954,\n",
       "        0.00477193, 0.00598588, 0.00554449, 0.00591162, 0.00579961]),\n",
       " 'rank_test_score': array([80, 67, 61, 63, 62, 64, 65, 66, 68, 69, 72, 76, 77, 78, 73, 79, 70,\n",
       "        71, 74, 75, 60, 41, 42, 49, 51, 45, 48, 52, 57, 59, 56, 58, 53, 55,\n",
       "        50, 54, 47, 46, 43, 44, 40, 39, 31, 38, 36, 28, 29, 21, 25, 37, 34,\n",
       "        32, 26, 22, 35, 33, 27, 23, 24, 30, 20, 19, 17, 18, 15, 10,  4,  2,\n",
       "        14, 16,  9, 13,  7, 11, 12,  5,  8,  3,  6,  1])}"
      ]
     },
     "execution_count": 49,
     "metadata": {},
     "output_type": "execute_result"
    }
   ],
   "source": [
    "CV_rfc.cv_results_"
   ]
  },
  {
   "cell_type": "code",
   "execution_count": 51,
   "id": "1c2d94c4",
   "metadata": {},
   "outputs": [
    {
     "data": {
      "text/plain": [
       "{'max_depth': 8, 'n_estimators': 200}"
      ]
     },
     "execution_count": 51,
     "metadata": {},
     "output_type": "execute_result"
    }
   ],
   "source": [
    "# Melhores parâmetros:\n",
    "CV_rfc.best_params_"
   ]
  },
  {
   "cell_type": "code",
   "execution_count": 52,
   "id": "4982a4f0",
   "metadata": {},
   "outputs": [
    {
     "data": {
      "text/plain": [
       "<bound method BaseEstimator.get_params of GridSearchCV(cv=10, estimator=RandomForestClassifier(random_state=42),\n",
       "             param_grid={'max_depth': [2, 4, 6, 8],\n",
       "                         'n_estimators': [10, 20, 30, 40, 50, 60, 70, 80, 90,\n",
       "                                          100, 110, 120, 130, 140, 150, 160,\n",
       "                                          170, 180, 190, 200]})>"
      ]
     },
     "execution_count": 52,
     "metadata": {},
     "output_type": "execute_result"
    }
   ],
   "source": [
    "CV_rfc.get_params"
   ]
  },
  {
   "cell_type": "code",
   "execution_count": 53,
   "id": "78ae852d",
   "metadata": {},
   "outputs": [],
   "source": [
    "# \"Treinando\" o modelo com melhores parâmetros:\n",
    "rfc = RandomForestClassifier(max_depth= 8, n_estimators= 200, random_state=42).fit(X_train_scaled,y_train)"
   ]
  },
  {
   "cell_type": "code",
   "execution_count": 54,
   "id": "0a69be5e",
   "metadata": {},
   "outputs": [
    {
     "data": {
      "text/plain": [
       "0.9155544256599296"
      ]
     },
     "execution_count": 54,
     "metadata": {},
     "output_type": "execute_result"
    }
   ],
   "source": [
    "# Acurácia com dados de treino:\n",
    "rfc.score(X_train_scaled,y_train)"
   ]
  },
  {
   "cell_type": "markdown",
   "id": "2271c3c0",
   "metadata": {},
   "source": [
    "### b) Para cada modelo, reporte os hiperparâmetros selecionados e as métricas de acurácia, revocação, precisão e F1-score nos dados de teste. Plote também a curva ROC e a curva Precision-Recall para cada modelo otimizado."
   ]
  },
  {
   "cell_type": "code",
   "execution_count": 55,
   "id": "d8b6f0e1",
   "metadata": {},
   "outputs": [
    {
     "data": {
      "text/plain": [
       "0.9117152743450321"
      ]
     },
     "execution_count": 55,
     "metadata": {},
     "output_type": "execute_result"
    }
   ],
   "source": [
    "# Acurácia para os dados de teste:\n",
    "pred = rfc.predict(X_test_scaled)\n",
    "accuracy_score(y_test, pred)"
   ]
  },
  {
   "cell_type": "code",
   "execution_count": 56,
   "id": "64ce205e",
   "metadata": {
    "scrolled": true
   },
   "outputs": [
    {
     "name": "stdout",
     "output_type": "stream",
     "text": [
      "              precision    recall  f1-score   support\n",
      "\n",
      "         0.0       1.00      0.82      0.90      4945\n",
      "         1.0       0.85      1.00      0.92      5170\n",
      "\n",
      "    accuracy                           0.91     10115\n",
      "   macro avg       0.93      0.91      0.91     10115\n",
      "weighted avg       0.92      0.91      0.91     10115\n",
      "\n"
     ]
    }
   ],
   "source": [
    "# Métricas: Acurácia, Revocação, Precisão e F1-score nos dados de teste:\n",
    "print(classification_report(y_test, pred))"
   ]
  },
  {
   "cell_type": "code",
   "execution_count": 57,
   "id": "adb83b03",
   "metadata": {},
   "outputs": [
    {
     "data": {
      "text/plain": [
       "<bound method BaseEstimator.get_params of RandomForestClassifier(max_depth=8, n_estimators=200, random_state=42)>"
      ]
     },
     "execution_count": 57,
     "metadata": {},
     "output_type": "execute_result"
    }
   ],
   "source": [
    "rfc.get_params"
   ]
  },
  {
   "cell_type": "code",
   "execution_count": 58,
   "id": "d0bb0aee",
   "metadata": {},
   "outputs": [
    {
     "data": {
      "image/png": "[encoded data removed]",
      "text/plain": [
       "<Figure size 432x288 with 1 Axes>"
      ]
     },
     "metadata": {
      "needs_background": "light"
     },
     "output_type": "display_data"
    }
   ],
   "source": [
    "# Curva ROC\n",
    "ax = plt.gca()\n",
    "rfc_disp = RocCurveDisplay.from_estimator(rfc, X_test_scaled, y_test, ax=ax)"
   ]
  },
  {
   "cell_type": "code",
   "execution_count": 59,
   "id": "d9715846",
   "metadata": {
    "scrolled": true
   },
   "outputs": [
    {
     "data": {
      "text/plain": [
       "<sklearn.metrics._plot.precision_recall_curve.PrecisionRecallDisplay at 0x1f137225760>"
      ]
     },
     "execution_count": 59,
     "metadata": {},
     "output_type": "execute_result"
    },
    {
     "data": {
      "image/png": "[encoded data removed]",
      "text/plain": [
       "<Figure size 432x288 with 1 Axes>"
      ]
     },
     "metadata": {
      "needs_background": "light"
     },
     "output_type": "display_data"
    }
   ],
   "source": [
    "# Precision Recall\n",
    "precision, recall, _ = precision_recall_curve(y_test, pred)\n",
    "disp = PrecisionRecallDisplay(precision=precision, recall=recall)\n",
    "disp.plot()"
   ]
  },
  {
   "cell_type": "code",
   "execution_count": null,
   "id": "984e7828",
   "metadata": {},
   "outputs": [],
   "source": []
  },
  {
   "cell_type": "code",
   "execution_count": null,
   "id": "220de616",
   "metadata": {},
   "outputs": [],
   "source": []
  }
 ],
 "metadata": {
  "kernelspec": {
   "display_name": "Python 3 (ipykernel)",
   "language": "python",
   "name": "python3"
  },
  "language_info": {
   "codemirror_mode": {
    "name": "ipython",
    "version": 3
   },
   "file_extension": ".py",
   "mimetype": "text/x-python",
   "name": "python",
   "nbconvert_exporter": "python",
   "pygments_lexer": "ipython3",
   "version": "3.9.12"
  }
 },
 "nbformat": 4,
 "nbformat_minor": 5
}
